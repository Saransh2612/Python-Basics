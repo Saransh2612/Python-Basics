{
  "nbformat": 4,
  "nbformat_minor": 0,
  "metadata": {
    "colab": {
      "provenance": []
    },
    "kernelspec": {
      "name": "python3",
      "display_name": "Python 3"
    },
    "language_info": {
      "name": "python"
    }
  },
  "cells": [
    {
      "cell_type": "markdown",
      "source": [],
      "metadata": {
        "id": "jLll1c653yT2"
      }
    },
    {
      "cell_type": "markdown",
      "source": [
        "# Python Basic"
      ],
      "metadata": {
        "id": "e5EVCJs93zqH"
      }
    },
    {
      "cell_type": "markdown",
      "source": [
        "1. What is Python, and why is it popular?\n",
        "    Python is a high-level, interpreted programming language known for its simplicity and readability. It's popular because of its:\n",
        "\n",
        "    Easy-to-understand syntax\n",
        "\n",
        "    Large standard library and community support\n",
        "\n",
        "    Versatility (used in web development, data science, AI, automation, etc.)\n",
        "\n",
        "    Cross-platform compatibility\n",
        "\n",
        "\n",
        "\n",
        "2. What is an interpreter in Python?\n",
        "    An interpreter is a program that executes Python code line by line. It converts the high-level code into machine code at runtime, enabling immediate feedback during development.\n",
        "\n",
        "\n",
        "\n",
        "3. What are pre-defined keywords in Python?\n",
        "    Pre-defined keywords are reserved words that have special meaning in Python. Examples: if, for, while, def, class, return, etc.\n",
        "\n",
        "\n",
        "\n",
        "4. Can keywords be used as variable names?\n",
        "    No, keywords cannot be used as variable names because they are reserved for specific syntactic purposes.\n",
        "\n",
        "\n",
        "\n",
        "5. What is mutability in Python?\n",
        "    Mutability refers to whether an object can be changed after it's created. Mutable objects (like lists) can be altered, while immutable ones (like tuples and strings) cannot.\n",
        "\n",
        "\n",
        "\n",
        "6. Why are lists mutable, but tuples are immutable?\n",
        "    Lists are designed for dynamic data manipulation (e.g., adding/removing items), so they are mutable. Tuples are meant to represent fixed collections of items and thus are immutable for safety and performance.\n",
        "\n",
        "\n",
        "\n",
        "7. What is the difference between “==” and “is” operators in Python?\n",
        "\n",
        "    == checks value equality (if two variables have the same value).\n",
        "\n",
        "    is checks identity (if two variables point to the same object in memory).\n",
        "\n",
        "\n",
        "\n",
        "8. What are logical operators in Python?\n",
        "Logical operators are used to combine boolean expressions:\n",
        "\n",
        "    and – returns True if both operands are true\n",
        "\n",
        "    or – returns True if at least one operand is true\n",
        "\n",
        "    not – inverts the boolean value\n",
        "\n",
        "\n",
        "\n",
        "9. What is type casting in Python?\n",
        "    Type casting is the process of converting one data type into another, like turning a string into an integer (int(\"123\")).\n",
        "\n",
        "\n",
        "\n",
        "10. What is the difference between implicit and explicit type casting?\n",
        "\n",
        "    Implicit casting: Python automatically converts the type (e.g., int to float).\n",
        "\n",
        "    Explicit casting: You manually convert the type using functions like int(), str(), float().\n",
        "\n",
        "\n",
        "\n",
        "11. What is the purpose of conditional statements in Python?\n",
        "    Conditional statements (if, elif, else) control the flow of a program by executing different code blocks based on specific conditions.\n",
        "\n",
        "\n",
        "\n",
        "12. How does the elif statement work?\n",
        "    elif stands for \"else if\". It's used after an if to check multiple conditions in sequence. Only the first true condition's block is executed.\n",
        "\n",
        "\n",
        "\n",
        "13. What is the difference between for and while loops?\n",
        "\n",
        "    for loop: Iterates over a sequence (like a list, string, or range) a fixed number of times.\n",
        "\n",
        "    while loop: Repeats as long as a condition is true — useful for indefinite repetition.\n",
        "\n",
        "    \n",
        "\n",
        "14. Describe a scenario where a while loop is more suitable than a for loop.\n",
        "Example: Reading user input until they type \"exit\". You don’t know how many times the user will input, so a while loop is better.\n",
        "\n",
        "    python\n",
        "    Copy\n",
        "    Edit\n",
        "    while True:\n",
        "        text = input(\"Enter something (type 'exit' to quit): \")\n",
        "        if text == \"exit\":\n",
        "            break\n"
      ],
      "metadata": {
        "id": "eBcJ-Ehl3xHu"
      }
    },
    {
      "cell_type": "markdown",
      "source": [
        "1. Print \"Hello, World!\""
      ],
      "metadata": {
        "id": "jxkqkLIa5pBu"
      }
    },
    {
      "cell_type": "code",
      "source": [
        "print(\"Hello, World!\")\n"
      ],
      "metadata": {
        "colab": {
          "base_uri": "https://localhost:8080/"
        },
        "id": "ShSt15PC5tTe",
        "outputId": "e06a71cf-9303-4a40-e19a-071f47357de1"
      },
      "execution_count": 1,
      "outputs": [
        {
          "output_type": "stream",
          "name": "stdout",
          "text": [
            "Hello, World!\n"
          ]
        }
      ]
    },
    {
      "cell_type": "markdown",
      "source": [
        "2. Display your name and age"
      ],
      "metadata": {
        "id": "uZZr8hZ651Rn"
      }
    },
    {
      "cell_type": "code",
      "source": [
        "name = \"Saransh\"\n",
        "age = 25\n",
        "print(f\"My name is {name} and I am {age} years old.\")\n"
      ],
      "metadata": {
        "colab": {
          "base_uri": "https://localhost:8080/"
        },
        "id": "9BG9QyG355CX",
        "outputId": "e846d4f2-53ef-4cbb-eb18-952848f8a6e1"
      },
      "execution_count": 2,
      "outputs": [
        {
          "output_type": "stream",
          "name": "stdout",
          "text": [
            "My name is Saransh and I am 25 years old.\n"
          ]
        }
      ]
    },
    {
      "cell_type": "markdown",
      "source": [
        "3. Print all Python keywords using keyword library"
      ],
      "metadata": {
        "id": "gqEiWVdE6AOe"
      }
    },
    {
      "cell_type": "code",
      "source": [
        "import keyword\n",
        "print(keyword.kwlist)\n"
      ],
      "metadata": {
        "colab": {
          "base_uri": "https://localhost:8080/"
        },
        "id": "ceKxROqT6Cd9",
        "outputId": "33ce6f93-2d74-443e-ab95-34b4eaa120f4"
      },
      "execution_count": 3,
      "outputs": [
        {
          "output_type": "stream",
          "name": "stdout",
          "text": [
            "['False', 'None', 'True', 'and', 'as', 'assert', 'async', 'await', 'break', 'class', 'continue', 'def', 'del', 'elif', 'else', 'except', 'finally', 'for', 'from', 'global', 'if', 'import', 'in', 'is', 'lambda', 'nonlocal', 'not', 'or', 'pass', 'raise', 'return', 'try', 'while', 'with', 'yield']\n"
          ]
        }
      ]
    },
    {
      "cell_type": "markdown",
      "source": [
        "4. Check if a word is a Python keyword"
      ],
      "metadata": {
        "id": "1NZ1FTd-6EXV"
      }
    },
    {
      "cell_type": "code",
      "source": [
        "import keyword\n",
        "\n",
        "word = input(\"Enter a word \")\n",
        "if keyword.iskeyword(word):\n",
        "    print(f\"{word} is a Python keyword.\")\n",
        "else:\n",
        "    print(f\"{word} is not a Python keyword.\")\n"
      ],
      "metadata": {
        "colab": {
          "base_uri": "https://localhost:8080/"
        },
        "id": "IQQeg4uG6KOf",
        "outputId": "ca5e0dbd-b9f4-4375-c1c0-3f05466fa8cf"
      },
      "execution_count": 4,
      "outputs": [
        {
          "output_type": "stream",
          "name": "stdout",
          "text": [
            "Enter a wordhello\n",
            "hello is not a Python keyword.\n"
          ]
        }
      ]
    },
    {
      "cell_type": "markdown",
      "source": [
        "5. Demonstrate mutable and immutable arguments"
      ],
      "metadata": {
        "id": "TRU8itUA6Ymu"
      }
    },
    {
      "cell_type": "code",
      "source": [
        "def modify(mutable_list, immutable_int):\n",
        "    mutable_list.append(100)\n",
        "    immutable_int += 1\n",
        "    print(\"Inside function:\", mutable_list, immutable_int)\n",
        "\n",
        "my_list = [1, 2, 3]\n",
        "my_int = 10\n",
        "modify(my_list, my_int)\n",
        "print(\"Outside function:\", my_list, my_int)\n"
      ],
      "metadata": {
        "colab": {
          "base_uri": "https://localhost:8080/"
        },
        "id": "2wTaCsfR6a9f",
        "outputId": "2fed53c9-0bca-4575-9eb7-956da407d0d6"
      },
      "execution_count": 5,
      "outputs": [
        {
          "output_type": "stream",
          "name": "stdout",
          "text": [
            "Inside function: [1, 2, 3, 100] 11\n",
            "Outside function: [1, 2, 3, 100] 10\n"
          ]
        }
      ]
    },
    {
      "cell_type": "markdown",
      "source": [
        "6. Basic arithmetic operations on two user inputs"
      ],
      "metadata": {
        "id": "TAUJlF0t6nPn"
      }
    },
    {
      "cell_type": "code",
      "source": [
        "a = float(input(\"Enter first number: \"))\n",
        "b = float(input(\"Enter second number: \"))\n",
        "\n",
        "print(\"Addition:\", a + b)\n",
        "print(\"Subtraction:\", a - b)\n",
        "print(\"Multiplication:\", a * b)\n",
        "print(\"Division:\", a / b if b != 0 else \"Cannot divide by zero\")\n"
      ],
      "metadata": {
        "colab": {
          "base_uri": "https://localhost:8080/"
        },
        "id": "1Q5I9vTv6oE2",
        "outputId": "5bb7f7e2-46e5-428e-a1af-d872530b3a17"
      },
      "execution_count": 7,
      "outputs": [
        {
          "output_type": "stream",
          "name": "stdout",
          "text": [
            "Enter first number: 1\n",
            "Enter second number: 2\n",
            "Addition: 3.0\n",
            "Subtraction: -1.0\n",
            "Multiplication: 2.0\n",
            "Division: 0.5\n"
          ]
        }
      ]
    },
    {
      "cell_type": "markdown",
      "source": [
        "7. Demonstrate logical operators"
      ],
      "metadata": {
        "id": "dwEzMeeU6wD2"
      }
    },
    {
      "cell_type": "code",
      "source": [
        "x = True\n",
        "y = False\n",
        "\n",
        "print(\"x and y:\", x and y)\n",
        "print(\"x or y:\", x or y)\n",
        "print(\"not x:\", not x)\n"
      ],
      "metadata": {
        "colab": {
          "base_uri": "https://localhost:8080/"
        },
        "id": "avwXeQ-e6wsu",
        "outputId": "f39105e2-5886-4056-a639-2981d3c75f06"
      },
      "execution_count": 8,
      "outputs": [
        {
          "output_type": "stream",
          "name": "stdout",
          "text": [
            "x and y: False\n",
            "x or y: True\n",
            "not x: False\n"
          ]
        }
      ]
    },
    {
      "cell_type": "markdown",
      "source": [
        "8. Demonstrate mutability: list vs tuple"
      ],
      "metadata": {
        "id": "Qw2oU1p_6zeu"
      }
    },
    {
      "cell_type": "code",
      "source": [
        "my_list = [1, 2, 3]\n",
        "my_list[0] = 100\n",
        "print(\"Modified list:\", my_list)\n",
        "\n",
        "my_tuple = (1, 2, 3)\n",
        "try:\n",
        "    my_tuple[0] = 100\n",
        "except TypeError as e:\n",
        "    print(\"Error modifying tuple:\", e)\n"
      ],
      "metadata": {
        "colab": {
          "base_uri": "https://localhost:8080/"
        },
        "id": "Z05U3RK661fW",
        "outputId": "2e4d11e3-d267-4b88-e34b-dc04b80f1e35"
      },
      "execution_count": 9,
      "outputs": [
        {
          "output_type": "stream",
          "name": "stdout",
          "text": [
            "Modified list: [100, 2, 3]\n",
            "Error modifying tuple: 'tuple' object does not support item assignment\n"
          ]
        }
      ]
    },
    {
      "cell_type": "markdown",
      "source": [
        "9. Convert user input to int, float, and bool"
      ],
      "metadata": {
        "id": "5tPff2-n7AF2"
      }
    },
    {
      "cell_type": "code",
      "source": [
        "user_input = input(\"Enter a value: \")\n",
        "\n",
        "int_val = int(user_input)\n",
        "float_val = float(user_input)\n",
        "bool_val = bool(user_input)\n",
        "\n",
        "print(\"Integer:\", int_val)\n",
        "print(\"Float:\", float_val)\n",
        "print(\"Boolean:\", bool_val)\n"
      ],
      "metadata": {
        "colab": {
          "base_uri": "https://localhost:8080/"
        },
        "id": "Ll50OTqC7A2G",
        "outputId": "839a02f1-cf1e-4c61-b76b-bb6451889d01"
      },
      "execution_count": 13,
      "outputs": [
        {
          "output_type": "stream",
          "name": "stdout",
          "text": [
            "Enter a value: 1\n",
            "Integer: 1\n",
            "Float: 1.0\n",
            "Boolean: True\n"
          ]
        }
      ]
    },
    {
      "cell_type": "markdown",
      "source": [
        "10. Type casting list elements"
      ],
      "metadata": {
        "id": "GJ_SOnrr7SjG"
      }
    },
    {
      "cell_type": "code",
      "source": [
        "str_list = [\"1\", \"2\", \"3\"]\n",
        "int_list = [int(i) for i in str_list]\n",
        "print(\"new list:\", int_list)\n"
      ],
      "metadata": {
        "colab": {
          "base_uri": "https://localhost:8080/"
        },
        "id": "hJGf6A3X7cEH",
        "outputId": "47ef9632-c3ec-45a5-f3a6-20a7e99e4cb2"
      },
      "execution_count": 14,
      "outputs": [
        {
          "output_type": "stream",
          "name": "stdout",
          "text": [
            "new list: [1, 2, 3]\n"
          ]
        }
      ]
    },
    {
      "cell_type": "markdown",
      "source": [
        "11. Check if a number is positive, negative, or zero"
      ],
      "metadata": {
        "id": "sVA2XcjH7iKO"
      }
    },
    {
      "cell_type": "code",
      "source": [
        "num = float(input(\"Enter a number: \"))\n",
        "\n",
        "if num > 0:\n",
        "    print(\"Positive\")\n",
        "elif num < 0:\n",
        "    print(\"Negative\")\n",
        "else:\n",
        "    print(\"Zero\")\n"
      ],
      "metadata": {
        "colab": {
          "base_uri": "https://localhost:8080/"
        },
        "id": "SgQsHfm97kH9",
        "outputId": "c91bd658-afc3-47f2-bf45-d48ec41699b3"
      },
      "execution_count": 15,
      "outputs": [
        {
          "output_type": "stream",
          "name": "stdout",
          "text": [
            "Enter a number: 5\n",
            "Positive\n"
          ]
        }
      ]
    },
    {
      "cell_type": "markdown",
      "source": [
        "12. Print numbers from 1 to 10 using a for loop"
      ],
      "metadata": {
        "id": "eQQv50dS7pD2"
      }
    },
    {
      "cell_type": "code",
      "source": [
        "for i in range(1, 11):\n",
        "    print(i)\n"
      ],
      "metadata": {
        "id": "h3ZZYR5Y7raf"
      },
      "execution_count": null,
      "outputs": []
    },
    {
      "cell_type": "markdown",
      "source": [
        "13. Sum of all even numbers between 1 and 50"
      ],
      "metadata": {
        "id": "akXaN7PL7tnO"
      }
    },
    {
      "cell_type": "code",
      "source": [
        "total = 0\n",
        "for i in range(2, 51, 2):\n",
        "    total += i\n",
        "print(\"Sum of even numbers from 1 to 50:\", total)\n"
      ],
      "metadata": {
        "id": "RJLCqtke7vh2"
      },
      "execution_count": null,
      "outputs": []
    },
    {
      "cell_type": "markdown",
      "source": [
        "14. Reverse a string using a while loop"
      ],
      "metadata": {
        "id": "vjlIjHc57xNP"
      }
    },
    {
      "cell_type": "code",
      "source": [
        "s = input(\"Enter a string\")\n",
        "reversed_str = \"\"\n",
        "i = len(s) - 1\n",
        "\n",
        "while i >= 0:\n",
        "    reversed_str += s[i]\n",
        "    i -= 1\n",
        "\n",
        "print(\"Reversed string:\", reversed_str)\n"
      ],
      "metadata": {
        "colab": {
          "base_uri": "https://localhost:8080/"
        },
        "id": "2_t0ebji7zFn",
        "outputId": "0ad5cdb0-efe9-4024-accd-f1de47068d65"
      },
      "execution_count": 17,
      "outputs": [
        {
          "output_type": "stream",
          "name": "stdout",
          "text": [
            "Enter a stringmy name is saransh\n",
            "Reversed string: hsnaras si eman ym\n"
          ]
        }
      ]
    },
    {
      "cell_type": "markdown",
      "source": [
        "15. Calculate factorial using while loop"
      ],
      "metadata": {
        "id": "qB6nYmk17-tm"
      }
    },
    {
      "cell_type": "code",
      "source": [
        "num = int(input(\"Enter a number\"))\n",
        "factorial = 1\n",
        "i = 1\n",
        "\n",
        "while i <= num:\n",
        "    factorial *= i\n",
        "    i += 1\n",
        "\n",
        "print(f\"Factorial of {num} is {factorial}\")\n"
      ],
      "metadata": {
        "colab": {
          "base_uri": "https://localhost:8080/"
        },
        "id": "zjuTVjb78BIu",
        "outputId": "019b6017-d976-4624-89cd-251c17d33b34"
      },
      "execution_count": 18,
      "outputs": [
        {
          "output_type": "stream",
          "name": "stdout",
          "text": [
            "Enter a number6\n",
            "Factorial of 6 is 720\n"
          ]
        }
      ]
    }
  ]
}